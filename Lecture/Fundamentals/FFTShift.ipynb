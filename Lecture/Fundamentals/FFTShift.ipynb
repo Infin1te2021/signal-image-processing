{
 "cells": [
  {
   "cell_type": "code",
   "execution_count": 4,
   "metadata": {},
   "outputs": [],
   "source": [
    "import numpy as np"
   ]
  },
  {
   "cell_type": "markdown",
   "metadata": {},
   "source": [
    "\\begin{align}\n",
    "fftshift(X)(u,v) \\longleftrightarrow X(u-\\left \\lfloor \\frac{M}{2} \\right \\rfloor, v-\\left \\lfloor \\frac{N}{2} \\right \\rfloor)\n",
    "\\end{align}\n",
    "Only relate to $u$ and $v$ value"
   ]
  },
  {
   "cell_type": "markdown",
   "metadata": {},
   "source": [
    "Matrix position\n",
    "\\begin{align}\n",
    "\\begin{bmatrix}\n",
    "(u=0,v=0) & (u=0,v=1) & (u=0,v=2)\\\\\n",
    "(u=1,v=0) & (u=1,v=1) & (u=1,v=2)\\\\\n",
    "(u=2,v=0) & (u=2,v=1) & (u=2,v=2)\n",
    "\\end{bmatrix}&=\n",
    "\\begin{bmatrix}\n",
    "(u=-3,v=-3) & (u=-3,v=-2) & (u=-3,v=-1)\\\\\n",
    "(u=-2,v=-3) & (u=-2,v=-2) & (u=-2,v=-1)\\\\\n",
    "(u=-1,v=-3) & (u=-1,v=-2) & (u=-1,v=-1)\n",
    "\\end{bmatrix}\n",
    "\\end{align}"
   ]
  },
  {
   "cell_type": "code",
   "execution_count": 5,
   "metadata": {},
   "outputs": [
    {
     "data": {
      "text/plain": [
       "array([[10, 11,  8,  9],\n",
       "       [14, 15, 12, 13],\n",
       "       [ 2,  3,  0,  1],\n",
       "       [ 6,  7,  4,  5]])"
      ]
     },
     "execution_count": 5,
     "metadata": {},
     "output_type": "execute_result"
    }
   ],
   "source": [
    "a = np.array([[0, 1, 2, 3], \n",
    "              [4, 5, 6, 7], \n",
    "              [8, 9, 10, 11], \n",
    "              [12, 13, 14, 15]])\n",
    "np.fft.fftshift(a)"
   ]
  },
  {
   "cell_type": "code",
   "execution_count": 6,
   "metadata": {},
   "outputs": [
    {
     "data": {
      "text/plain": [
       "array([[14, 15, 12, 13],\n",
       "       [ 2,  3,  0,  1],\n",
       "       [10, 11,  8,  9],\n",
       "       [ 6,  7,  4,  5]])"
      ]
     },
     "execution_count": 6,
     "metadata": {},
     "output_type": "execute_result"
    }
   ],
   "source": [
    "b = np.array([[8, 9, 10, 11], \n",
    "              [4, 5, 6, 7], \n",
    "              [12, 13, 14, 15], \n",
    "              [0, 1, 2, 3]])\n",
    "np.fft.fftshift(b)"
   ]
  }
 ],
 "metadata": {
  "kernelspec": {
   "display_name": "Python 3",
   "language": "python",
   "name": "python3"
  },
  "language_info": {
   "codemirror_mode": {
    "name": "ipython",
    "version": 3
   },
   "file_extension": ".py",
   "mimetype": "text/x-python",
   "name": "python",
   "nbconvert_exporter": "python",
   "pygments_lexer": "ipython3",
   "version": "3.10.12"
  }
 },
 "nbformat": 4,
 "nbformat_minor": 2
}
